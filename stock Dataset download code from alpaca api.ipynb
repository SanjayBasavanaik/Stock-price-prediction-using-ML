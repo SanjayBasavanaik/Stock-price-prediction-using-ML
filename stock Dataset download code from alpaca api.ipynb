{
 "cells": [
  {
   "cell_type": "code",
   "execution_count": 1,
   "id": "b1fe9c4d",
   "metadata": {},
   "outputs": [
    {
     "name": "stdout",
     "output_type": "stream",
     "text": [
      "Collecting alpaca-py\n",
      "  Downloading alpaca_py-0.8.2-py3-none-any.whl (96 kB)\n",
      "Collecting requests<3.0.0,>=2.27.1\n",
      "  Downloading requests-2.31.0-py3-none-any.whl (62 kB)\n",
      "Collecting pandas<2.0.0,>=1.3.5\n",
      "  Downloading pandas-1.5.3-cp39-cp39-win_amd64.whl (10.9 MB)\n",
      "Collecting websockets<11.0,>=10.2\n",
      "  Downloading websockets-10.4-cp39-cp39-win_amd64.whl (101 kB)\n",
      "Requirement already satisfied: pydantic<2.0.0,>=1.9.0 in c:\\users\\sanja\\anaconda3\\lib\\site-packages (from alpaca-py) (1.9.0)\n",
      "Collecting msgpack<2.0.0,>=1.0.3\n",
      "  Downloading msgpack-1.0.5-cp39-cp39-win_amd64.whl (62 kB)\n",
      "Collecting sseclient-py<2.0.0,>=1.7.2\n",
      "  Downloading sseclient_py-1.7.2-py2.py3-none-any.whl (8.4 kB)\n",
      "Requirement already satisfied: python-dateutil>=2.8.1 in c:\\users\\sanja\\anaconda3\\lib\\site-packages (from pandas<2.0.0,>=1.3.5->alpaca-py) (2.8.2)\n",
      "Collecting numpy>=1.20.3\n",
      "  Downloading numpy-1.24.3-cp39-cp39-win_amd64.whl (14.9 MB)\n",
      "Requirement already satisfied: pytz>=2020.1 in c:\\users\\sanja\\anaconda3\\lib\\site-packages (from pandas<2.0.0,>=1.3.5->alpaca-py) (2021.3)\n",
      "Requirement already satisfied: typing-extensions>=3.7.4.3 in c:\\users\\sanja\\anaconda3\\lib\\site-packages (from pydantic<2.0.0,>=1.9.0->alpaca-py) (3.10.0.2)\n",
      "Requirement already satisfied: six>=1.5 in c:\\users\\sanja\\anaconda3\\lib\\site-packages (from python-dateutil>=2.8.1->pandas<2.0.0,>=1.3.5->alpaca-py) (1.16.0)\n",
      "Requirement already satisfied: charset-normalizer<4,>=2 in c:\\users\\sanja\\anaconda3\\lib\\site-packages (from requests<3.0.0,>=2.27.1->alpaca-py) (2.0.4)\n",
      "Requirement already satisfied: urllib3<3,>=1.21.1 in c:\\users\\sanja\\anaconda3\\lib\\site-packages (from requests<3.0.0,>=2.27.1->alpaca-py) (1.26.7)\n",
      "Requirement already satisfied: certifi>=2017.4.17 in c:\\users\\sanja\\anaconda3\\lib\\site-packages (from requests<3.0.0,>=2.27.1->alpaca-py) (2021.10.8)\n",
      "Requirement already satisfied: idna<4,>=2.5 in c:\\users\\sanja\\anaconda3\\lib\\site-packages (from requests<3.0.0,>=2.27.1->alpaca-py) (3.2)\n",
      "Installing collected packages: numpy, websockets, sseclient-py, requests, pandas, msgpack, alpaca-py\n",
      "  Attempting uninstall: numpy\n",
      "    Found existing installation: numpy 1.19.5\n",
      "    Uninstalling numpy-1.19.5:\n",
      "      Successfully uninstalled numpy-1.19.5\n",
      "  Attempting uninstall: requests\n",
      "    Found existing installation: requests 2.26.0\n",
      "    Uninstalling requests-2.26.0:\n",
      "      Successfully uninstalled requests-2.26.0\n",
      "  Attempting uninstall: pandas\n",
      "    Found existing installation: pandas 1.3.4\n",
      "    Uninstalling pandas-1.3.4:\n",
      "      Successfully uninstalled pandas-1.3.4\n",
      "  Attempting uninstall: msgpack\n",
      "    Found existing installation: msgpack 1.0.2\n",
      "    Uninstalling msgpack-1.0.2:\n",
      "      Successfully uninstalled msgpack-1.0.2\n",
      "Successfully installed alpaca-py-0.8.2 msgpack-1.0.5 numpy-1.24.3 pandas-1.5.3 requests-2.31.0 sseclient-py-1.7.2 websockets-10.4\n",
      "Note: you may need to restart the kernel to use updated packages.\n"
     ]
    },
    {
     "name": "stderr",
     "output_type": "stream",
     "text": [
      "ERROR: pip's dependency resolver does not currently take into account all the packages that are installed. This behaviour is the source of the following dependency conflicts.\n",
      "daal4py 2021.3.0 requires daal==2021.2.3, which is not installed.\n",
      "conda-repo-cli 1.0.4 requires pathlib, which is not installed.\n",
      "anaconda-project 0.10.1 requires ruamel-yaml, which is not installed.\n",
      "thinc 8.0.15 requires pydantic!=1.8,!=1.8.1,<1.9.0,>=1.7.4, but you have pydantic 1.9.0 which is incompatible.\n",
      "spacy 3.3.1 requires pydantic!=1.8,!=1.8.1,<1.9.0,>=1.7.4, but you have pydantic 1.9.0 which is incompatible.\n",
      "spacy-transformers 1.1.5 requires transformers<4.18.0,>=3.4.0, but you have transformers 4.18.0 which is incompatible.\n",
      "scipy 1.7.1 requires numpy<1.23.0,>=1.16.5, but you have numpy 1.24.3 which is incompatible.\n",
      "numba 0.54.1 requires numpy<1.21,>=1.17, but you have numpy 1.24.3 which is incompatible.\n"
     ]
    }
   ],
   "source": [
    "pip install alpaca-py"
   ]
  },
  {
   "cell_type": "code",
   "execution_count": 26,
   "id": "334ca62f",
   "metadata": {},
   "outputs": [
    {
     "name": "stdout",
     "output_type": "stream",
     "text": [
      "Collecting alpaca-trade-apiNote: you may need to restart the kernel to use updated packages.\n",
      "  Downloading alpaca_trade_api-3.0.0-py3-none-any.whl (33 kB)\n",
      "Collecting aiohttp==3.8.1\n",
      "  Downloading aiohttp-3.8.1-cp39-cp39-win_amd64.whl (554 kB)\n",
      "Collecting websocket-client<2,>=0.56.0\n",
      "  Downloading websocket_client-1.5.2-py3-none-any.whl (56 kB)\n",
      "Requirement already satisfied: urllib3<2,>1.24 in c:\\users\\sanja\\anaconda3\\lib\\site-packages (from alpaca-trade-api) (1.26.7)\n",
      "Requirement already satisfied: websockets<11,>=9.0 in c:\\users\\sanja\\anaconda3\\lib\\site-packages (from alpaca-trade-api) (10.4)\n",
      "Requirement already satisfied: pandas>=0.18.1 in c:\\users\\sanja\\anaconda3\\lib\\site-packages (from alpaca-trade-api) (1.5.3)\n",
      "Collecting msgpack==1.0.3\n",
      "  Downloading msgpack-1.0.3-cp39-cp39-win_amd64.whl (69 kB)\n",
      "Collecting deprecation==2.1.0\n",
      "  Downloading deprecation-2.1.0-py2.py3-none-any.whl (11 kB)\n",
      "Requirement already satisfied: PyYAML==6.0 in c:\\users\\sanja\\anaconda3\\lib\\site-packages (from alpaca-trade-api) (6.0)\n",
      "Requirement already satisfied: numpy>=1.11.1 in c:\\users\\sanja\\anaconda3\\lib\\site-packages (from alpaca-trade-api) (1.24.3)\n",
      "Requirement already satisfied: requests<3,>2 in c:\\users\\sanja\\anaconda3\\lib\\site-packages (from alpaca-trade-api) (2.31.0)\n",
      "Collecting aiosignal>=1.1.2\n",
      "  Downloading aiosignal-1.3.1-py3-none-any.whl (7.6 kB)\n",
      "Requirement already satisfied: attrs>=17.3.0 in c:\\users\\sanja\\anaconda3\\lib\\site-packages (from aiohttp==3.8.1->alpaca-trade-api) (21.2.0)\n",
      "Collecting yarl<2.0,>=1.0\n",
      "  Downloading yarl-1.9.2-cp39-cp39-win_amd64.whl (61 kB)\n",
      "Collecting async-timeout<5.0,>=4.0.0a3\n",
      "  Downloading async_timeout-4.0.2-py3-none-any.whl (5.8 kB)\n",
      "Collecting frozenlist>=1.1.1\n",
      "  Downloading frozenlist-1.3.3-cp39-cp39-win_amd64.whl (34 kB)\n",
      "Requirement already satisfied: charset-normalizer<3.0,>=2.0 in c:\\users\\sanja\\anaconda3\\lib\\site-packages (from aiohttp==3.8.1->alpaca-trade-api) (2.0.4)\n",
      "Collecting multidict<7.0,>=4.5\n",
      "  Downloading multidict-6.0.4-cp39-cp39-win_amd64.whl (28 kB)\n",
      "Requirement already satisfied: packaging in c:\\users\\sanja\\anaconda3\\lib\\site-packages (from deprecation==2.1.0->alpaca-trade-api) (21.0)\n",
      "Requirement already satisfied: python-dateutil>=2.8.1 in c:\\users\\sanja\\anaconda3\\lib\\site-packages (from pandas>=0.18.1->alpaca-trade-api) (2.8.2)\n",
      "Requirement already satisfied: pytz>=2020.1 in c:\\users\\sanja\\anaconda3\\lib\\site-packages (from pandas>=0.18.1->alpaca-trade-api) (2021.3)\n",
      "Requirement already satisfied: six>=1.5 in c:\\users\\sanja\\anaconda3\\lib\\site-packages (from python-dateutil>=2.8.1->pandas>=0.18.1->alpaca-trade-api) (1.16.0)\n",
      "Requirement already satisfied: certifi>=2017.4.17 in c:\\users\\sanja\\anaconda3\\lib\\site-packages (from requests<3,>2->alpaca-trade-api) (2021.10.8)\n",
      "Requirement already satisfied: idna<4,>=2.5 in c:\\users\\sanja\\anaconda3\\lib\\site-packages (from requests<3,>2->alpaca-trade-api) (3.2)\n",
      "Requirement already satisfied: pyparsing>=2.0.2 in c:\\users\\sanja\\anaconda3\\lib\\site-packages (from packaging->deprecation==2.1.0->alpaca-trade-api) (3.0.4)\n",
      "Installing collected packages: multidict, frozenlist, yarl, async-timeout, aiosignal, websocket-client, msgpack, deprecation, aiohttp, alpaca-trade-api\n",
      "  Attempting uninstall: msgpack\n",
      "    Found existing installation: msgpack 1.0.5\n",
      "    Uninstalling msgpack-1.0.5:\n",
      "      Successfully uninstalled msgpack-1.0.5\n",
      "Successfully installed aiohttp-3.8.1 aiosignal-1.3.1 alpaca-trade-api-3.0.0 async-timeout-4.0.2 deprecation-2.1.0 frozenlist-1.3.3 msgpack-1.0.3 multidict-6.0.4 websocket-client-1.5.2 yarl-1.9.2\n",
      "\n"
     ]
    }
   ],
   "source": [
    "pip install alpaca-trade-api"
   ]
  },
  {
   "cell_type": "code",
   "execution_count": 1,
   "id": "4d93a54b",
   "metadata": {},
   "outputs": [],
   "source": [
    "import alpaca_trade_api as tradeapi\n",
    "import pandas as pd"
   ]
  },
  {
   "cell_type": "code",
   "execution_count": 2,
   "id": "ba92a99f",
   "metadata": {},
   "outputs": [],
   "source": [
    "api = tradeapi.REST('PK2YZRLTE7E2VNAE5HE8', '1fXbn53EsjAftnza4Cy4bbThIQY6t7BTdUxfHTY1',\n",
    "                    base_url='https://paper-api.alpaca.markets')"
   ]
  },
  {
   "cell_type": "code",
   "execution_count": 3,
   "id": "9c3a9485",
   "metadata": {},
   "outputs": [],
   "source": [
    "symbols = ['IOT', 'GOOGL']\n",
    "start_date = '2020-04-01'\n",
    "end_date = '2023-04-01'"
   ]
  },
  {
   "cell_type": "code",
   "execution_count": 4,
   "id": "6ee7507c",
   "metadata": {},
   "outputs": [],
   "source": [
    "timeframe = '1Hour'\n",
    "barset = api.get_bars(symbols, timeframe, start=start_date, end=end_date)"
   ]
  },
  {
   "cell_type": "code",
   "execution_count": 5,
   "id": "def252c9",
   "metadata": {},
   "outputs": [
    {
     "name": "stdout",
     "output_type": "stream",
     "text": [
      "<class 'alpaca_trade_api.entity_v2.BarsV2'>\n"
     ]
    }
   ],
   "source": [
    "print(type(barset))"
   ]
  },
  {
   "cell_type": "code",
   "execution_count": 5,
   "id": "eb18cd46",
   "metadata": {},
   "outputs": [
    {
     "data": {
      "text/html": [
       "<div>\n",
       "<style scoped>\n",
       "    .dataframe tbody tr th:only-of-type {\n",
       "        vertical-align: middle;\n",
       "    }\n",
       "\n",
       "    .dataframe tbody tr th {\n",
       "        vertical-align: top;\n",
       "    }\n",
       "\n",
       "    .dataframe thead th {\n",
       "        text-align: right;\n",
       "    }\n",
       "</style>\n",
       "<table border=\"1\" class=\"dataframe\">\n",
       "  <thead>\n",
       "    <tr style=\"text-align: right;\">\n",
       "      <th></th>\n",
       "      <th>open</th>\n",
       "      <th>high</th>\n",
       "      <th>low</th>\n",
       "      <th>close</th>\n",
       "      <th>volume</th>\n",
       "      <th>trade_count</th>\n",
       "      <th>vwap</th>\n",
       "      <th>symbol</th>\n",
       "    </tr>\n",
       "    <tr>\n",
       "      <th>timestamp</th>\n",
       "      <th></th>\n",
       "      <th></th>\n",
       "      <th></th>\n",
       "      <th></th>\n",
       "      <th></th>\n",
       "      <th></th>\n",
       "      <th></th>\n",
       "      <th></th>\n",
       "    </tr>\n",
       "  </thead>\n",
       "  <tbody>\n",
       "    <tr>\n",
       "      <th>2020-04-01 10:00:00+00:00</th>\n",
       "      <td>1130.00</td>\n",
       "      <td>1130.00</td>\n",
       "      <td>1130.00</td>\n",
       "      <td>1130.00</td>\n",
       "      <td>510</td>\n",
       "      <td>15</td>\n",
       "      <td>1130.930471</td>\n",
       "      <td>GOOGL</td>\n",
       "    </tr>\n",
       "    <tr>\n",
       "      <th>2020-04-01 11:00:00+00:00</th>\n",
       "      <td>1131.09</td>\n",
       "      <td>1133.02</td>\n",
       "      <td>1129.25</td>\n",
       "      <td>1130.70</td>\n",
       "      <td>1331</td>\n",
       "      <td>32</td>\n",
       "      <td>1131.154853</td>\n",
       "      <td>GOOGL</td>\n",
       "    </tr>\n",
       "    <tr>\n",
       "      <th>2020-04-01 12:00:00+00:00</th>\n",
       "      <td>1130.85</td>\n",
       "      <td>1130.85</td>\n",
       "      <td>1122.93</td>\n",
       "      <td>1128.00</td>\n",
       "      <td>2776</td>\n",
       "      <td>96</td>\n",
       "      <td>1126.214705</td>\n",
       "      <td>GOOGL</td>\n",
       "    </tr>\n",
       "    <tr>\n",
       "      <th>2020-04-01 13:00:00+00:00</th>\n",
       "      <td>1125.00</td>\n",
       "      <td>1129.42</td>\n",
       "      <td>1115.29</td>\n",
       "      <td>1116.03</td>\n",
       "      <td>299462</td>\n",
       "      <td>11345</td>\n",
       "      <td>1122.845107</td>\n",
       "      <td>GOOGL</td>\n",
       "    </tr>\n",
       "    <tr>\n",
       "      <th>2020-04-01 14:00:00+00:00</th>\n",
       "      <td>1116.75</td>\n",
       "      <td>1129.35</td>\n",
       "      <td>1114.03</td>\n",
       "      <td>1125.71</td>\n",
       "      <td>301693</td>\n",
       "      <td>12544</td>\n",
       "      <td>1123.176543</td>\n",
       "      <td>GOOGL</td>\n",
       "    </tr>\n",
       "  </tbody>\n",
       "</table>\n",
       "</div>"
      ],
      "text/plain": [
       "                              open     high      low    close  volume  \\\n",
       "timestamp                                                               \n",
       "2020-04-01 10:00:00+00:00  1130.00  1130.00  1130.00  1130.00     510   \n",
       "2020-04-01 11:00:00+00:00  1131.09  1133.02  1129.25  1130.70    1331   \n",
       "2020-04-01 12:00:00+00:00  1130.85  1130.85  1122.93  1128.00    2776   \n",
       "2020-04-01 13:00:00+00:00  1125.00  1129.42  1115.29  1116.03  299462   \n",
       "2020-04-01 14:00:00+00:00  1116.75  1129.35  1114.03  1125.71  301693   \n",
       "\n",
       "                           trade_count         vwap symbol  \n",
       "timestamp                                                   \n",
       "2020-04-01 10:00:00+00:00           15  1130.930471  GOOGL  \n",
       "2020-04-01 11:00:00+00:00           32  1131.154853  GOOGL  \n",
       "2020-04-01 12:00:00+00:00           96  1126.214705  GOOGL  \n",
       "2020-04-01 13:00:00+00:00        11345  1122.845107  GOOGL  \n",
       "2020-04-01 14:00:00+00:00        12544  1123.176543  GOOGL  "
      ]
     },
     "execution_count": 5,
     "metadata": {},
     "output_type": "execute_result"
    }
   ],
   "source": [
    "df = barset.df\n",
    "df.head()"
   ]
  },
  {
   "cell_type": "code",
   "execution_count": 6,
   "id": "2ef1f8d6",
   "metadata": {},
   "outputs": [
    {
     "data": {
      "text/plain": [
       "(13186, 8)"
      ]
     },
     "execution_count": 6,
     "metadata": {},
     "output_type": "execute_result"
    }
   ],
   "source": [
    "df.shape"
   ]
  },
  {
   "cell_type": "code",
   "execution_count": 7,
   "id": "95445467",
   "metadata": {},
   "outputs": [],
   "source": [
    "dfGoogl= df[df[\"symbol\"]==\"GOOGL\"]\n",
    "dfIot = df[df[\"symbol\"]==\"IOT\"]"
   ]
  },
  {
   "cell_type": "code",
   "execution_count": 8,
   "id": "73605788",
   "metadata": {},
   "outputs": [],
   "source": [
    "dfGoogl.to_csv('Googl_stock_3yrdata.csv')\n",
    "dfIot.to_csv('Iot_stock_3yrdata.csv')"
   ]
  },
  {
   "cell_type": "code",
   "execution_count": 51,
   "id": "2c753e90",
   "metadata": {},
   "outputs": [
    {
     "data": {
      "text/plain": [
       "'C:\\\\Users\\\\sanja'"
      ]
     },
     "execution_count": 51,
     "metadata": {},
     "output_type": "execute_result"
    }
   ],
   "source": [
    "pwd"
   ]
  },
  {
   "cell_type": "code",
   "execution_count": null,
   "id": "c5363a5d",
   "metadata": {},
   "outputs": [],
   "source": []
  }
 ],
 "metadata": {
  "kernelspec": {
   "display_name": "Python 3 (ipykernel)",
   "language": "python",
   "name": "python3"
  },
  "language_info": {
   "codemirror_mode": {
    "name": "ipython",
    "version": 3
   },
   "file_extension": ".py",
   "mimetype": "text/x-python",
   "name": "python",
   "nbconvert_exporter": "python",
   "pygments_lexer": "ipython3",
   "version": "3.9.7"
  }
 },
 "nbformat": 4,
 "nbformat_minor": 5
}
